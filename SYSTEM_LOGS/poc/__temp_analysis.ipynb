{
 "cells": [
  {
   "cell_type": "code",
   "execution_count": 2,
   "id": "a2782773",
   "metadata": {},
   "outputs": [
    {
     "name": "stdout",
     "output_type": "stream",
     "text": [
      "=== Metadata 첫 번째 키 값 통계 ===\n",
      "code: 4회\n",
      "path: 27회\n",
      "reason: 2회\n",
      "redirect_to: 10회\n",
      "result: 17회\n",
      "status_code: 27회\n",
      "url: 27회\n"
     ]
    }
   ],
   "source": [
    "\n",
    "import json\n",
    "from collections import defaultdict\n",
    "\n",
    "# JSON 파일 읽기\n",
    "file_path = \"/home/kongju/DEV/poc/output/transcripts-2025-09-16.json\"\n",
    "with open(file_path) as f:\n",
    "    data = json.load(f)\n",
    "    \n",
    "# metadata 첫 번째 키 값 카운트를 위한 딕셔너리\n",
    "first_key_counts = defaultdict(int)\n",
    "\n",
    "# 각 엔트리의 metadata 분석\n",
    "for entry in data:\n",
    "    if 'metadata' in entry and entry['metadata']:\n",
    "        # metadata의 첫 번째 키 가져오기\n",
    "        first_key = list(entry['metadata'].keys())[0]\n",
    "        first_key_counts[first_key] += 1\n",
    "\n",
    "# 결과 출력\n",
    "print(\"=== Metadata 첫 번째 키 값 통계 ===\")\n",
    "for key, count in sorted(first_key_counts.items()):\n",
    "    print(f\"{key}: {count}회\")\n"
   ]
  },
  {
   "cell_type": "code",
   "execution_count": 5,
   "id": "cdad33a1",
   "metadata": {},
   "outputs": [
    {
     "name": "stdout",
     "output_type": "stream",
     "text": [
      "=== Action 종류별 통계 ===\n",
      "client_cert_submit: 27회\n",
      "direct_anomaly_check: 2회\n",
      "login_redirect_dashboard: 27회\n",
      "opa_anomaly_check: 4회\n",
      "was_verify_request: 27회\n",
      "was_verify_response: 27회\n"
     ]
    }
   ],
   "source": [
    "import json\n",
    "from collections import defaultdict\n",
    "\n",
    "# JSON 파일 읽기\n",
    "file_path = \"/home/kongju/DEV/poc/output/transcripts-2025-09-16.json\"\n",
    "with open(file_path) as f:\n",
    "    data = json.load(f)\n",
    "\n",
    "# action 값의 종류와 발생 횟수를 위한 딕셔너리\n",
    "action_counts = defaultdict(int)\n",
    "\n",
    "# 각 엔트리의 action 분석\n",
    "for entry in data:\n",
    "    if 'action' in entry:\n",
    "        action_counts[entry['action']] += 1\n",
    "\n",
    "# 결과 출력\n",
    "print(\"=== Action 종류별 통계 ===\")\n",
    "for action, count in sorted(action_counts.items()):\n",
    "    print(f\"{action}: {count}회\")\n"
   ]
  },
  {
   "cell_type": "code",
   "execution_count": 4,
   "id": "f54335c1",
   "metadata": {},
   "outputs": [
    {
     "name": "stdout",
     "output_type": "stream",
     "text": [
      "=== Metadata 첫 번째 키-값 유형별 통계 ===\n",
      "\n",
      "path:\n",
      "  - str: 27회\n",
      "\n",
      "url:\n",
      "  - str: 27회\n",
      "\n",
      "status_code:\n",
      "  - str: 27회\n",
      "\n",
      "result:\n",
      "  - str: 17회\n",
      "\n",
      "redirect_to:\n",
      "  - str: 10회\n",
      "\n",
      "reason:\n",
      "  - str: 2회\n",
      "\n",
      "code:\n",
      "  - str: 4회\n"
     ]
    }
   ],
   "source": [
    "\n",
    "import json\n",
    "from collections import defaultdict\n",
    "\n",
    "# JSON 파일 읽기\n",
    "file_path = \"/home/kongju/DEV/poc/output/transcripts-2025-09-16.json\"\n",
    "with open(file_path) as f:\n",
    "    data = json.load(f)\n",
    "\n",
    "\n",
    "# metadata 첫 번째 키-값 유형별 카운트를 위한 딕셔너리\n",
    "first_key_types = defaultdict(lambda: defaultdict(int))\n",
    "\n",
    "# 각 엔트리의 metadata 분석\n",
    "for entry in data:\n",
    "    if 'metadata' in entry and entry['metadata']:\n",
    "        # metadata의 첫 번째 키와 값 가져오기\n",
    "        first_key = list(entry['metadata'].keys())[0]\n",
    "        first_value = entry['metadata'][first_key]\n",
    "        # 값의 타입 확인\n",
    "        value_type = type(first_value).__name__\n",
    "        first_key_types[first_key][value_type] += 1\n",
    "\n",
    "# 결과 출력\n",
    "print(\"=== Metadata 첫 번째 키-값 유형별 통계 ===\")\n",
    "for key in first_key_types:\n",
    "    print(f\"\\n{key}:\")\n",
    "    for value_type, count in first_key_types[key].items():\n",
    "        print(f\"  - {value_type}: {count}회\")\n",
    "\n"
   ]
  },
  {
   "cell_type": "markdown",
   "id": "5627eb0d",
   "metadata": {},
   "source": [
    "# OPA \n",
    "- 2025년 9월 17일(수)"
   ]
  },
  {
   "cell_type": "code",
   "execution_count": 6,
   "id": "2ce6d551",
   "metadata": {},
   "outputs": [
    {
     "name": "stdout",
     "output_type": "stream",
     "text": [
      "=== OPA 로그 이벤트 종류별 통계 ===\n",
      "ml_auth_request: 2회\n",
      "ml_auth_response: 4회\n",
      "ml_signature_verify: 3회\n",
      "opa_policy_check: 3회\n"
     ]
    }
   ],
   "source": [
    "opa_file_path = \"/home/kongju/DEV/poc/data/opa/ml_message_exchange_2025-01-15.log\"\n",
    "# OPA 로그 파일 읽기\n",
    "event_counts = defaultdict(int)\n",
    "\n",
    "with open(opa_file_path) as f:\n",
    "    for line in f:\n",
    "        try:\n",
    "            data = json.loads(line)\n",
    "            if 'event' in data:\n",
    "                event_counts[data['event']] += 1\n",
    "        except json.JSONDecodeError:\n",
    "            continue\n",
    "\n",
    "print(\"=== OPA 로그 이벤트 종류별 통계 ===\")\n",
    "for event, count in sorted(event_counts.items()):\n",
    "    print(f\"{event}: {count}회\")\n",
    "\n"
   ]
  },
  {
   "cell_type": "code",
   "execution_count": 14,
   "id": "91b38ebc",
   "metadata": {},
   "outputs": [
    {
     "name": "stdout",
     "output_type": "stream",
     "text": [
      "=== OPA 로그 메시지 순서별 통계 ===\n",
      "(1) Magic Line authentication process initiated - 2회\n",
      "(2) Digital signature verification completed - 2회\n",
      "(3) OPA policy evaluation completed - 2회\n",
      "(4) Magic Line authentication successful - 2회\n",
      "(5) ERROR: WAS_VERIFY_ERROR - was_verify_fail - 1회\n",
      "(6) ERROR: Magic Line authentication failed - WAS_VERIFY_ERROR - 1회\n",
      "(7) ERROR: OPA server error - 500 - 1회\n",
      "(8) ERROR: Magic Line authentication failed - OPA server communication error - 1회\n"
     ]
    }
   ],
   "source": [
    "opa_file_path = \"/home/kongju/DEV/poc/data/opa/ml_message_exchange_2025-01-15.log\"\n",
    "message_sequence = {}  # 메시지 순서와 횟수를 저장할 딕셔너리 \n",
    "sequence_num = 1  # 메시지 순서 번호\n",
    "\n",
    "with open(opa_file_path) as f:\n",
    "    for line in f:\n",
    "        try:\n",
    "            data = json.loads(line)\n",
    "            if 'message' in data:\n",
    "                message = data['message']\n",
    "                if message not in message_sequence:\n",
    "                    message_sequence[message] = {\n",
    "                        'order': sequence_num,\n",
    "                        'count': 1\n",
    "                    }\n",
    "                    sequence_num += 1\n",
    "                else:\n",
    "                    message_sequence[message]['count'] += 1\n",
    "        except json.JSONDecodeError:\n",
    "            continue\n",
    "\n",
    "print(\"=== OPA 로그 메시지 순서별 통계 ===\")\n",
    "for message, info in sorted(message_sequence.items(), key=lambda x: x[1]['order']):\n",
    "    print(f\"({info['order']}) {message} - {info['count']}회\")\n",
    "\n"
   ]
  },
  {
   "cell_type": "code",
   "execution_count": null,
   "id": "064e9a5f",
   "metadata": {},
   "outputs": [],
   "source": []
  }
 ],
 "metadata": {
  "kernelspec": {
   "display_name": "anom",
   "language": "python",
   "name": "python3"
  },
  "language_info": {
   "codemirror_mode": {
    "name": "ipython",
    "version": 3
   },
   "file_extension": ".py",
   "mimetype": "text/x-python",
   "name": "python",
   "nbconvert_exporter": "python",
   "pygments_lexer": "ipython3",
   "version": "3.9.23"
  }
 },
 "nbformat": 4,
 "nbformat_minor": 5
}
